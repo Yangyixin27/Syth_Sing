{
 "cells": [
  {
   "cell_type": "code",
   "execution_count": 238,
   "metadata": {},
   "outputs": [],
   "source": [
    "import numpy as np\n",
    "import youtube_dl\n",
    "import os\n",
    "from __future__ import unicode_literals\n",
    "from scipy.io.wavfile import read, write\n",
    "import pandas as pd\n",
    "import matplotlib.pyplot as plt\n",
    "%matplotlib inline\n",
    "from sklearn.model_selection import train_test_split\n",
    "from sklearn import preprocessing\n",
    "from sklearn.metrics.pairwise import cosine_similarity\n",
    "import datetime\n",
    "import time"
   ]
  },
  {
   "cell_type": "code",
   "execution_count": 239,
   "metadata": {},
   "outputs": [],
   "source": [
    "wav_file_name = \"music/edsheeran_photograph.wav\"\n",
    "lrc_file_name = wav_file_name.replace('.wav', '.lrc')\n",
    "# print(lrc_file_name)\n",
    "rate, data = read(wav_file_name)\n",
    "audio_data = data[:,0]\n",
    "# audio_df = pd.DataFrame(data[:,0])\n",
    "# print(rate)\n",
    "# print(audio_df.shape)\n",
    "# 11090163/48000"
   ]
  },
  {
   "cell_type": "code",
   "execution_count": 240,
   "metadata": {},
   "outputs": [
    {
     "data": {
      "text/plain": [
       "(10527332,)"
      ]
     },
     "execution_count": 240,
     "metadata": {},
     "output_type": "execute_result"
    }
   ],
   "source": [
    "data[:,0].shape"
   ]
  },
  {
   "cell_type": "code",
   "execution_count": 241,
   "metadata": {},
   "outputs": [],
   "source": [
    "start_time = list()\n",
    "end_time = list()\n",
    "texts = list()"
   ]
  },
  {
   "cell_type": "code",
   "execution_count": 242,
   "metadata": {},
   "outputs": [],
   "source": [
    "def preprocess_lrc(lrc_file):\n",
    "  with open(lrc_file) as f:\n",
    "    name = lrc_file.split('.')[0]\n",
    "    for line in f:\n",
    "#       print(line.strip().split(']')[1])\n",
    "#       print(len(line.strip().split(']')))\n",
    "      if line.strip().split(']')[1]!='' and '[tr]' not in line and '[tt]' not in line:\n",
    "#         print(line)\n",
    "        start_t = line.strip().split(']')[0].split('[')[1]\n",
    "        start_t = int(start_t.split(':')[0])*60 + float(start_t.split(':')[1])\n",
    "        start_time.append(start_t)\n",
    "        text = line.strip().split(']')[1]\n",
    "        texts.append(text)\n",
    "        print(text)\n",
    "#         print(start_t)\n",
    "               "
   ]
  },
  {
   "cell_type": "code",
   "execution_count": 243,
   "metadata": {},
   "outputs": [],
   "source": [
    "# start_time"
   ]
  },
  {
   "cell_type": "code",
   "execution_count": 244,
   "metadata": {},
   "outputs": [
    {
     "name": "stdout",
     "output_type": "stream",
     "text": [
      "Loving can hurt\n",
      "Loving can hurt sometimes\n",
      "But it’s the only thing that I’ve known\n",
      "When it gets hard\n",
      "You know it can get hard sometimes\n",
      "It is the only thing that makes us feel alive\n",
      "We keep this love in a photograph\n",
      "We made these memories for ourselves\n",
      "Where our eyes are never closing\n",
      "Our hearts hearts were never broken\n",
      "And times forever frozen still\n",
      "So you can keep me inside the pocket of your ripped jeans\n",
      "Holding me close until our eyes meet\n",
      "You will never be alone\n",
      "Wait for me to come home\n",
      "Loving can heal\n",
      "Loving can mend your soul\n",
      "And it’s the only thing that I’ve known\n",
      "I swear it will get easier\n",
      "Remember that (?)\n",
      "And it’s the only thing to take with us when we die\n",
      "We keep this love in a photograph\n",
      "We made these memories for ourselves\n",
      "Where our eyes are never closing\n",
      "Our hearts were never broken\n",
      "And times forever frozen still\n",
      "So you can keep me inside the pocket of your ripped jeans\n",
      "Holding me close until our eyes meet\n",
      "You won’t ever be alone\n",
      "And if you hurt me that’s okay baby\n",
      "Only words bleed\n",
      "Inside these pages you just hold me\n",
      "And I will never let you go\n",
      "Wait me for me to come home [x4\n",
      "And you could fit me inside the necklace you wore\n",
      "When you were sixteen\n",
      "Next to your heart right where I should be\n",
      "Keep it deep within your soul\n",
      "And if you hurt me\n",
      "But that’s okay baby\n",
      "Only words bleed\n",
      "Inside these pages you just hold me\n",
      "And I won’t ever let you go\n",
      "When I’m away\n",
      "I will remember how you kissed me\n",
      "Under the lamppost back on 6th street\n",
      "Hearing you whisper through the phone\n",
      "Wait for me to come home\n"
     ]
    }
   ],
   "source": [
    "preprocess_lrc(lrc_file_name)"
   ]
  },
  {
   "cell_type": "code",
   "execution_count": 245,
   "metadata": {},
   "outputs": [],
   "source": [
    "offset = 17"
   ]
  },
  {
   "cell_type": "code",
   "execution_count": 246,
   "metadata": {},
   "outputs": [],
   "source": [
    "file_num = 6"
   ]
  },
  {
   "cell_type": "code",
   "execution_count": 247,
   "metadata": {},
   "outputs": [],
   "source": [
    "# print result to text file\n",
    "mata_name = \"metadata_\" + str(file_num) + \".csv\"\n",
    "text_file = open(mata_name, \"w\")"
   ]
  },
  {
   "cell_type": "code",
   "execution_count": 248,
   "metadata": {},
   "outputs": [],
   "source": [
    "\n",
    "for i in range(len(start_time)):\n",
    "  index = str(i)\n",
    "  start_t = start_time[i]-offset\n",
    "  try:\n",
    "    end_t = start_time[i+1]-offset\n",
    "    sub_audio = audio_data[int(start_t*rate):int(end_t*rate)]\n",
    "  except:\n",
    "    sub_audio = audio_data[int(start_t*rate):]\n",
    "  sub_text = texts[i]\n",
    "  sample_name = 'LJ'+str(file_num).zfill(3)+'-'+index.zfill(4)\n",
    "  line_data = sample_name+'|'+sub_text+'|'+sub_text\n",
    "#   print(line_data)\n",
    "  text_file.write(line_data +'\\n')\n",
    "  write('wavs/'+sample_name+'.wav', rate, sub_audio)"
   ]
  },
  {
   "cell_type": "code",
   "execution_count": 249,
   "metadata": {},
   "outputs": [],
   "source": [
    "text_file.close()"
   ]
  },
  {
   "cell_type": "code",
   "execution_count": null,
   "metadata": {},
   "outputs": [],
   "source": []
  }
 ],
 "metadata": {
  "kernelspec": {
   "display_name": "Python 3",
   "language": "python",
   "name": "python3"
  },
  "language_info": {
   "codemirror_mode": {
    "name": "ipython",
    "version": 3
   },
   "file_extension": ".py",
   "mimetype": "text/x-python",
   "name": "python",
   "nbconvert_exporter": "python",
   "pygments_lexer": "ipython3",
   "version": "3.6.2"
  }
 },
 "nbformat": 4,
 "nbformat_minor": 2
}
